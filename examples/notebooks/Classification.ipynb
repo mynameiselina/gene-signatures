{
 "cells": [
  {
   "cell_type": "markdown",
   "metadata": {},
   "source": [
    "SET PARAMETERS"
   ]
  },
  {
   "cell_type": "code",
   "execution_count": 1,
   "metadata": {},
   "outputs": [],
   "source": [
    "# initialize params\n",
    "DEBUG = True\n",
    "saveReport = False\n",
    "toPrint = True\n",
    "reportName = 'notebook'\n",
    "txt_label = \"Classification of integrated c1 and c2 CNVs samples\"\n",
    "sample_class_column = \"Relapsed\"\n",
    "class_labels = [\"relapsed\",\"NOTrelapsed\"]\n",
    "class_values = [1,0]\n",
    "\n",
    "# classification params\n",
    "split_train_size = 20\n",
    "split_random_state = 0\n",
    "\n",
    "# plotting params\n",
    "plot_kwargs = {}\n",
    "function_dict = None\n",
    "with_swarm = False\n",
    "highRes = False\n",
    "if highRes:\n",
    "    img_ext = '.pdf'\n",
    "else:\n",
    "    img_ext = '.png'\n",
    "cmap_custom = None\n",
    "vmin, vmax = (-2, +2)"
   ]
  },
  {
   "cell_type": "code",
   "execution_count": 16,
   "metadata": {},
   "outputs": [],
   "source": [
    "# file paths\n",
    "data_fpath = \"output/headneck/integrate_cohorts/c1c2/CNV_mapped_filt/integrated_data.csv\"\n",
    "\n",
    "test_fpath = \"output/headneck/feature_selection/c1_prmr_OncFltNxEx/sample_prediciton_scores.csv\"\n",
    "\n",
    "cnv_feature_fpaths = [\n",
    "    \"output/headneck/feature_selection/c1_prmr_OncFltNxEx/featsel_results.csv\",\n",
    "    \"output/headneck/feature_selection/c2_ExcvFltNxEx/featsel_results.csv\",\n",
    "    \"output/headneck/feature_selection/c1_prmr_mapped_c2_CnvFltNxEx/featsel_results.csv\",\n",
    "]\n",
    "\n",
    "snv_feature_fpaths = [\n",
    "    \"output/headneck/setup_c1_genepanel/process_select_primary/data_processed.csv\",\n",
    "]\n",
    "\n",
    "mixed_feature_fpaths = [\n",
    "    \"output/headneck/feature_selection/c1_prmr_GnPn_OncFltNxEx/featsel_results.csv\",\n",
    "]\n",
    "\n",
    "sample_info_fpath = \"input/headneck/integrate_cohorts/integrated_sample_info.csv\"\n",
    "gene_info_fpath = \"input/headneck/integrate_cohorts/gene_info.csv\"\n",
    "output_directory = \"output/headneck/classification\"\n",
    "\n",
    "sample_info_read_csv_kwargs = {\n",
    "    \"sep\": \"\\t\",\n",
    "    \"header\": 0,\n",
    "    \"index_col\": 0,\n",
    "    \"col_as_index\":\"cnvID\"\n",
    "}"
   ]
  },
  {
   "cell_type": "markdown",
   "metadata": {},
   "source": [
    "SET ENVIRONMENT"
   ]
  },
  {
   "cell_type": "code",
   "execution_count": 3,
   "metadata": {},
   "outputs": [],
   "source": [
    "# custom imports\n",
    "from omics_processing.io import (\n",
    "    set_directory, load_clinical\n",
    ")\n",
    "from omics_processing.remove_duplicates import (\n",
    "    remove_andSave_duplicates\n",
    ")\n",
    "from gene_signatures.core import (\n",
    "    custom_div_cmap,\n",
    "    get_chr_ticks,\n",
    "    choose_samples,\n",
    "    parse_arg_type,\n",
    "    boxplot,\n",
    "    set_heatmap_size,\n",
    "    set_cbar_ticks,\n",
    "    edit_names_with_duplicates\n",
    ")\n",
    "\n",
    "# basic imports\n",
    "import os, sys\n",
    "import numpy as np\n",
    "import pandas as pd\n",
    "import json\n",
    "from scipy.spatial.distance import pdist, squareform\n",
    "from natsort import natsorted, index_natsorted\n",
    "import math\n",
    "import logging\n",
    "from sklearn import linear_model\n",
    "from sklearn import svm\n",
    "from distutils.util import strtobool\n",
    "from scipy.stats import binom_test\n",
    "from sklearn.externals import joblib\n",
    "from sklearn.model_selection import StratifiedKFold, train_test_split\n",
    "\n",
    "# plotting imports\n",
    "%matplotlib inline\n",
    "import matplotlib\n",
    "import matplotlib.pyplot as plt\n",
    "import seaborn as sns\n",
    "sns.set_style('white')\n",
    "sns.set_context('poster')\n",
    "\n",
    "script_path = os.getcwd()\n",
    "logger = logging.getLogger(__name__)"
   ]
  },
  {
   "cell_type": "markdown",
   "metadata": {},
   "source": [
    "START ANALYSIS"
   ]
  },
  {
   "cell_type": "code",
   "execution_count": null,
   "metadata": {},
   "outputs": [],
   "source": []
  },
  {
   "cell_type": "code",
   "execution_count": 4,
   "metadata": {},
   "outputs": [],
   "source": [
    "if DEBUG:\n",
    "    logging.basicConfig(stream=sys.stdout, level=logging.DEBUG)"
   ]
  },
  {
   "cell_type": "code",
   "execution_count": 17,
   "metadata": {},
   "outputs": [
    {
     "name": "stdout",
     "output_type": "stream",
     "text": [
      "DEBUG:__main__:set data_fpath:\n",
      "/Users/lle/GitRepos/myRepos/gene_signatures/examples/notebooks/../../data/output/headneck/integrate_cohorts/c1c2/CNV_mapped_filt/integrated_data.csv\n",
      "DEBUG:__main__:set data_fpath:\n",
      "/Users/lle/GitRepos/myRepos/gene_signatures/examples/notebooks/../../data/output/headneck/feature_selection/c1_prmr_OncFltNxEx/sample_prediciton_scores.csv\n",
      "DEBUG:__main__:set sample_info_fpath:\n",
      "/Users/lle/GitRepos/myRepos/gene_signatures/examples/notebooks/../../data/input/headneck/integrate_cohorts/integrated_sample_info.csv\n",
      "DEBUG:__main__:set gene_info_fpath:\n",
      "/Users/lle/GitRepos/myRepos/gene_signatures/examples/notebooks/../../data/input/headneck/integrate_cohorts/gene_info.csv\n",
      "DEBUG:__main__:set output_directory:\n",
      "/Users/lle/GitRepos/myRepos/gene_signatures/examples/notebooks/../../data/output/headneck/classification/notebook\n"
     ]
    }
   ],
   "source": [
    "# properly set file paths\n",
    "try:\n",
    "    os.path.exists(MainDataDir)\n",
    "except:\n",
    "    MainDataDir = os.path.join(script_path, '..','..', 'data')\n",
    "    logger.debug(\"set MainDataDir:\\n\"+MainDataDir)\n",
    "\n",
    "# data input\n",
    "if not os.path.exists(data_fpath):\n",
    "    data_fpath = os.path.join(*data_fpath.rsplit('/'))\n",
    "    data_fpath = os.path.join(MainDataDir, data_fpath)\n",
    "    logger.debug(\"set data_fpath:\\n\"+data_fpath)\n",
    "\n",
    "# test input\n",
    "if not os.path.exists(test_fpath):\n",
    "    test_fpath = os.path.join(*test_fpath.rsplit('/'))\n",
    "    test_fpath = os.path.join(MainDataDir, test_fpath)\n",
    "    logger.debug(\"set data_fpath:\\n\"+test_fpath)\n",
    "    \n",
    "# sample info input\n",
    "if not os.path.exists(sample_info_fpath):\n",
    "    sample_info_fpath = os.path.join(*sample_info_fpath.rsplit('/'))\n",
    "    sample_info_fpath = os.path.join(MainDataDir, sample_info_fpath)\n",
    "    logger.debug(\"set sample_info_fpath:\\n\"+sample_info_fpath)\n",
    "\n",
    "# gene info input\n",
    "if not os.path.exists(gene_info_fpath):\n",
    "    gene_info_fpath = os.path.join(*gene_info_fpath.rsplit('/'))\n",
    "    gene_info_fpath = os.path.join(MainDataDir, gene_info_fpath)\n",
    "    logger.debug(\"set gene_info_fpath:\\n\"+gene_info_fpath)\n",
    "\n",
    "# data output\n",
    "if not os.path.exists(output_directory):\n",
    "    output_directory = os.path.join(*output_directory.rsplit('/'))\n",
    "    output_directory = set_directory(\n",
    "        os.path.join(MainDataDir, output_directory, reportName)\n",
    "    )\n",
    "    logger.debug(\"set output_directory:\\n\"+output_directory)"
   ]
  },
  {
   "cell_type": "code",
   "execution_count": 9,
   "metadata": {},
   "outputs": [],
   "source": [
    "if (cmap_custom is None) and (vmin is not None) and (vmax is not None):\n",
    "    custom_div_cmap_arg = abs(vmin)+abs(vmax)\n",
    "    if (vmin <= 0) and (vmax >= 0):\n",
    "        custom_div_cmap_arg = custom_div_cmap_arg + 1\n",
    "    mincol = plot_kwargs.get('mincol', None)\n",
    "    midcol = plot_kwargs.get('midcol', None)\n",
    "    maxcol = plot_kwargs.get('maxcol', None)\n",
    "    if (\n",
    "            (mincol is not None) and\n",
    "            (midcol is not None) and\n",
    "            (maxcol is not None)\n",
    "            ):\n",
    "        cmap_custom = custom_div_cmap(\n",
    "            numcolors=custom_div_cmap_arg,\n",
    "            mincol=mincol, midcol=midcol, maxcol=maxcol)\n",
    "    else:\n",
    "        cmap_custom = custom_div_cmap(numcolors=custom_div_cmap_arg)"
   ]
  },
  {
   "cell_type": "code",
   "execution_count": 10,
   "metadata": {},
   "outputs": [
    {
     "name": "stdout",
     "output_type": "stream",
     "text": [
      "INFO:__main__:loaded data file with shape: (71, 18530)\n"
     ]
    }
   ],
   "source": [
    "# load data\n",
    "data = pd.read_csv(data_fpath, sep='\\t', header=0, index_col=0)\n",
    "logger.info('loaded data file with shape: '+str(data.shape))"
   ]
  },
  {
   "cell_type": "code",
   "execution_count": 18,
   "metadata": {},
   "outputs": [
    {
     "name": "stdout",
     "output_type": "stream",
     "text": [
      "INFO:__main__:loaded test file with shape: (21, 2)\n"
     ]
    }
   ],
   "source": [
    "# load test\n",
    "test = pd.read_csv(test_fpath, sep='\\t', header=0, index_col=0)\n",
    "logger.info('loaded test file with shape: '+str(test.shape))"
   ]
  },
  {
   "cell_type": "code",
   "execution_count": 62,
   "metadata": {},
   "outputs": [
    {
     "data": {
      "text/html": [
       "<div>\n",
       "<style scoped>\n",
       "    .dataframe tbody tr th:only-of-type {\n",
       "        vertical-align: middle;\n",
       "    }\n",
       "\n",
       "    .dataframe tbody tr th {\n",
       "        vertical-align: top;\n",
       "    }\n",
       "\n",
       "    .dataframe thead th {\n",
       "        text-align: right;\n",
       "    }\n",
       "</style>\n",
       "<table border=\"1\" class=\"dataframe\">\n",
       "  <thead>\n",
       "    <tr style=\"text-align: right;\">\n",
       "      <th></th>\n",
       "      <th>Ccode</th>\n",
       "      <th>pred_diffs</th>\n",
       "    </tr>\n",
       "    <tr>\n",
       "      <th>cnvID</th>\n",
       "      <th></th>\n",
       "      <th></th>\n",
       "    </tr>\n",
       "  </thead>\n",
       "  <tbody>\n",
       "    <tr>\n",
       "      <th>DS-101_0001</th>\n",
       "      <td>0</td>\n",
       "      <td>1.0</td>\n",
       "    </tr>\n",
       "    <tr>\n",
       "      <th>DS-101_0007</th>\n",
       "      <td>0</td>\n",
       "      <td>0.0</td>\n",
       "    </tr>\n",
       "    <tr>\n",
       "      <th>DS-101_0009</th>\n",
       "      <td>0</td>\n",
       "      <td>0.0</td>\n",
       "    </tr>\n",
       "    <tr>\n",
       "      <th>DS-101_0011</th>\n",
       "      <td>0</td>\n",
       "      <td>0.0</td>\n",
       "    </tr>\n",
       "    <tr>\n",
       "      <th>DS-101_0013</th>\n",
       "      <td>0</td>\n",
       "      <td>1.0</td>\n",
       "    </tr>\n",
       "  </tbody>\n",
       "</table>\n",
       "</div>"
      ],
      "text/plain": [
       "             Ccode  pred_diffs\n",
       "cnvID                         \n",
       "DS-101_0001      0         1.0\n",
       "DS-101_0007      0         0.0\n",
       "DS-101_0009      0         0.0\n",
       "DS-101_0011      0         0.0\n",
       "DS-101_0013      0         1.0"
      ]
     },
     "execution_count": 62,
     "metadata": {},
     "output_type": "execute_result"
    }
   ],
   "source": [
    "test.head()"
   ]
  },
  {
   "cell_type": "code",
   "execution_count": 36,
   "metadata": {},
   "outputs": [
    {
     "data": {
      "text/plain": [
       "Ccode         11.0\n",
       "pred_diffs     3.0\n",
       "dtype: float64"
      ]
     },
     "execution_count": 36,
     "metadata": {},
     "output_type": "execute_result"
    }
   ],
   "source": [
    "test.sum(axis=0)"
   ]
  },
  {
   "cell_type": "code",
   "execution_count": 37,
   "metadata": {},
   "outputs": [
    {
     "data": {
      "text/plain": [
       "Ccode         0.0\n",
       "pred_diffs    3.0\n",
       "dtype: float64"
      ]
     },
     "execution_count": 37,
     "metadata": {},
     "output_type": "execute_result"
    }
   ],
   "source": [
    "test[test.Ccode == 0].sum(axis=0)"
   ]
  },
  {
   "cell_type": "code",
   "execution_count": 136,
   "metadata": {},
   "outputs": [
    {
     "data": {
      "text/html": [
       "<div>\n",
       "<style scoped>\n",
       "    .dataframe tbody tr th:only-of-type {\n",
       "        vertical-align: middle;\n",
       "    }\n",
       "\n",
       "    .dataframe tbody tr th {\n",
       "        vertical-align: top;\n",
       "    }\n",
       "\n",
       "    .dataframe thead th {\n",
       "        text-align: right;\n",
       "    }\n",
       "</style>\n",
       "<table border=\"1\" class=\"dataframe\">\n",
       "  <thead>\n",
       "    <tr style=\"text-align: right;\">\n",
       "      <th></th>\n",
       "      <th>Ccode</th>\n",
       "      <th>pred_diffs</th>\n",
       "    </tr>\n",
       "    <tr>\n",
       "      <th>cnvID</th>\n",
       "      <th></th>\n",
       "      <th></th>\n",
       "    </tr>\n",
       "  </thead>\n",
       "  <tbody>\n",
       "    <tr>\n",
       "      <th>DS-101_0001</th>\n",
       "      <td>0</td>\n",
       "      <td>1</td>\n",
       "    </tr>\n",
       "    <tr>\n",
       "      <th>DS-101_0007</th>\n",
       "      <td>0</td>\n",
       "      <td>0</td>\n",
       "    </tr>\n",
       "    <tr>\n",
       "      <th>DS-101_0009</th>\n",
       "      <td>0</td>\n",
       "      <td>0</td>\n",
       "    </tr>\n",
       "    <tr>\n",
       "      <th>DS-101_0011</th>\n",
       "      <td>0</td>\n",
       "      <td>0</td>\n",
       "    </tr>\n",
       "    <tr>\n",
       "      <th>DS-101_0013</th>\n",
       "      <td>0</td>\n",
       "      <td>1</td>\n",
       "    </tr>\n",
       "    <tr>\n",
       "      <th>DS-101_0015</th>\n",
       "      <td>0</td>\n",
       "      <td>0</td>\n",
       "    </tr>\n",
       "    <tr>\n",
       "      <th>DS-101_0017</th>\n",
       "      <td>0</td>\n",
       "      <td>0</td>\n",
       "    </tr>\n",
       "    <tr>\n",
       "      <th>DS-101_0019</th>\n",
       "      <td>0</td>\n",
       "      <td>0</td>\n",
       "    </tr>\n",
       "    <tr>\n",
       "      <th>DS-101_0021</th>\n",
       "      <td>0</td>\n",
       "      <td>1</td>\n",
       "    </tr>\n",
       "    <tr>\n",
       "      <th>DS-101_0003</th>\n",
       "      <td>0</td>\n",
       "      <td>0</td>\n",
       "    </tr>\n",
       "    <tr>\n",
       "      <th>DS-107_0012</th>\n",
       "      <td>1</td>\n",
       "      <td>0</td>\n",
       "    </tr>\n",
       "    <tr>\n",
       "      <th>DS-107_0008</th>\n",
       "      <td>1</td>\n",
       "      <td>0</td>\n",
       "    </tr>\n",
       "    <tr>\n",
       "      <th>DS-107_0007</th>\n",
       "      <td>1</td>\n",
       "      <td>0</td>\n",
       "    </tr>\n",
       "    <tr>\n",
       "      <th>DS-107_0002</th>\n",
       "      <td>1</td>\n",
       "      <td>0</td>\n",
       "    </tr>\n",
       "    <tr>\n",
       "      <th>DS-107_0005</th>\n",
       "      <td>1</td>\n",
       "      <td>0</td>\n",
       "    </tr>\n",
       "    <tr>\n",
       "      <th>DS-107_0004</th>\n",
       "      <td>1</td>\n",
       "      <td>0</td>\n",
       "    </tr>\n",
       "    <tr>\n",
       "      <th>DS-107_0003</th>\n",
       "      <td>1</td>\n",
       "      <td>0</td>\n",
       "    </tr>\n",
       "    <tr>\n",
       "      <th>DS-107_0011</th>\n",
       "      <td>1</td>\n",
       "      <td>0</td>\n",
       "    </tr>\n",
       "    <tr>\n",
       "      <th>DS-107_0006</th>\n",
       "      <td>1</td>\n",
       "      <td>0</td>\n",
       "    </tr>\n",
       "    <tr>\n",
       "      <th>DS-107_0009</th>\n",
       "      <td>1</td>\n",
       "      <td>0</td>\n",
       "    </tr>\n",
       "    <tr>\n",
       "      <th>DS-107_0010</th>\n",
       "      <td>1</td>\n",
       "      <td>0</td>\n",
       "    </tr>\n",
       "  </tbody>\n",
       "</table>\n",
       "</div>"
      ],
      "text/plain": [
       "             Ccode  pred_diffs\n",
       "cnvID                         \n",
       "DS-101_0001      0           1\n",
       "DS-101_0007      0           0\n",
       "DS-101_0009      0           0\n",
       "DS-101_0011      0           0\n",
       "DS-101_0013      0           1\n",
       "DS-101_0015      0           0\n",
       "DS-101_0017      0           0\n",
       "DS-101_0019      0           0\n",
       "DS-101_0021      0           1\n",
       "DS-101_0003      0           0\n",
       "DS-107_0012      1           0\n",
       "DS-107_0008      1           0\n",
       "DS-107_0007      1           0\n",
       "DS-107_0002      1           0\n",
       "DS-107_0005      1           0\n",
       "DS-107_0004      1           0\n",
       "DS-107_0003      1           0\n",
       "DS-107_0011      1           0\n",
       "DS-107_0006      1           0\n",
       "DS-107_0009      1           0\n",
       "DS-107_0010      1           0"
      ]
     },
     "execution_count": 136,
     "metadata": {},
     "output_type": "execute_result"
    }
   ],
   "source": [
    "test.astype(int)"
   ]
  },
  {
   "cell_type": "code",
   "execution_count": 135,
   "metadata": {},
   "outputs": [
    {
     "data": {
      "text/plain": [
       "['NOrelapse', 'relapse']"
      ]
     },
     "execution_count": 135,
     "metadata": {},
     "output_type": "execute_result"
    }
   ],
   "source": [
    "[class_labels[class_values==0][0],class_labels[class_values==1][0]]"
   ]
  },
  {
   "cell_type": "code",
   "execution_count": 110,
   "metadata": {},
   "outputs": [
    {
     "data": {
      "image/png": "[encoded data removed]",
      "text/plain": [
       "<matplotlib.figure.Figure at 0x11aeea128>"
      ]
     },
     "metadata": {},
     "output_type": "display_data"
    }
   ],
   "source": [
    "sample_class_column = \"Ccode\"\n",
    "class_labels = np.array([\"relapse\",\"NOrelapse\"])\n",
    "class_values = np.array([1,0])\n",
    "\n",
    "y_maxlim = np.histogram(test[sample_class_column], bins=2)[0].max()\n",
    "axes = test.hist(by = 'Ccode', column='pred_diffs', bins=2, rwidth=0.4,figsize=(10,6))\n",
    "for ax in axes:\n",
    "    ax.set_ylim(0,y_maxlim+1)\n",
    "    ax.set_xlim(0,1)\n",
    "    ax.set_xticks([0.25,0.75])\n",
    "    ax.set_xticklabels(['correct','wrong'], rotation=0,fontsize=18)\n",
    "    ax_title = class_labels[np.where(class_values==float(ax.get_title()))[0][0]]+':'+str(ax.get_title())\n",
    "    ax.set_title(ax_title,fontsize=18)\n",
    "    plt.suptitle(sample_class_column+' predictions', fontsize=20)"
   ]
  },
  {
   "cell_type": "code",
   "execution_count": 121,
   "metadata": {},
   "outputs": [],
   "source": [
    "from sklearn.metrics import confusion_matrix\n",
    "import itertools"
   ]
  },
  {
   "cell_type": "code",
   "execution_count": 122,
   "metadata": {},
   "outputs": [],
   "source": [
    "def plot_confusion_matrix(cm, classes,\n",
    "                          normalize=False,\n",
    "                          title='Confusion matrix',\n",
    "                          cmap=plt.cm.Blues):\n",
    "    \"\"\"\n",
    "    This function prints and plots the confusion matrix.\n",
    "    Normalization can be applied by setting `normalize=True`.\n",
    "    \"\"\"\n",
    "    if normalize:\n",
    "        cm = cm.astype('float') / cm.sum(axis=1)[:, np.newaxis]\n",
    "        print(\"Normalized confusion matrix\")\n",
    "    else:\n",
    "        print('Confusion matrix, without normalization')\n",
    "\n",
    "    print(cm)\n",
    "\n",
    "    plt.imshow(cm, interpolation='nearest', cmap=cmap)\n",
    "    plt.title(title)\n",
    "    plt.colorbar()\n",
    "    tick_marks = np.arange(len(classes))\n",
    "    plt.xticks(tick_marks, classes, rotation=45)\n",
    "    plt.yticks(tick_marks, classes)\n",
    "\n",
    "    fmt = '.2f' if normalize else 'd'\n",
    "    thresh = cm.max() / 2.\n",
    "    for i, j in itertools.product(range(cm.shape[0]), range(cm.shape[1])):\n",
    "        plt.text(j, i, format(cm[i, j], fmt),\n",
    "                 horizontalalignment=\"center\",\n",
    "                 color=\"white\" if cm[i, j] > thresh else \"black\")\n",
    "\n",
    "    plt.tight_layout()\n",
    "    plt.ylabel('True label')\n",
    "    plt.xlabel('Predicted label')"
   ]
  },
  {
   "cell_type": "code",
   "execution_count": 128,
   "metadata": {},
   "outputs": [
    {
     "name": "stdout",
     "output_type": "stream",
     "text": [
      "Normalized confusion matrix\n",
      "[[0.7 0.3]\n",
      " [0.  1. ]]\n"
     ]
    },
    {
     "data": {
      "image/png": "[encoded data removed]",
      "text/plain": [
       "<matplotlib.figure.Figure at 0x11b2c52e8>"
      ]
     },
     "metadata": {},
     "output_type": "display_data"
    }
   ],
   "source": [
    "# Compute confusion matrix\n",
    "cnf_matrix = confusion_matrix(test[sample_class_column], np.abs(test[sample_class_column]-test['pred_diffs']))\n",
    "np.set_printoptions(precision=2)\n",
    "_classes = [class_labels[class_values==0][0],class_labels[class_values==1][0]]\n",
    "\n",
    "# Plot non-normalized confusion matrix\n",
    "plt.figure()\n",
    "plot_confusion_matrix(cnf_matrix, classes=_classes,\n",
    "                      title='Confusion matrix, without normalization')\n",
    "\n",
    "# Plot normalized confusion matrix\n",
    "plt.figure()\n",
    "plot_confusion_matrix(cnf_matrix, classes=_classes, normalize=True,\n",
    "                      title='Normalized confusion matrix')"
   ]
  },
  {
   "cell_type": "code",
   "execution_count": 97,
   "metadata": {},
   "outputs": [
    {
     "data": {
      "text/plain": [
       "'relapse'"
      ]
     },
     "execution_count": 97,
     "metadata": {},
     "output_type": "execute_result"
    }
   ],
   "source": [
    "class_labels[np.where(class_values==1)[0][0]]"
   ]
  },
  {
   "cell_type": "code",
   "execution_count": 89,
   "metadata": {},
   "outputs": [
    {
     "data": {
      "text/plain": [
       "[1, 0]"
      ]
     },
     "execution_count": 89,
     "metadata": {},
     "output_type": "execute_result"
    }
   ],
   "source": [
    "class_values"
   ]
  },
  {
   "cell_type": "code",
   "execution_count": null,
   "metadata": {},
   "outputs": [],
   "source": [
    "# load info table of samples\n",
    "sample_info = load_clinical(\n",
    "    sample_info_fpath, **sample_info_read_csv_kwargs)\n",
    "logger.info('loaded sample_info file with shape: '+str(sample_info.shape))"
   ]
  },
  {
   "cell_type": "code",
   "execution_count": null,
   "metadata": {},
   "outputs": [],
   "source": [
    "# load info table of genes\n",
    "gene_info = pd.read_csv(gene_info_fpath, sep='\\t', header=0, index_col=0)\n",
    "logger.info('loaded gene_info file with shape: '+str(gene_info.shape))"
   ]
  },
  {
   "cell_type": "code",
   "execution_count": null,
   "metadata": {},
   "outputs": [],
   "source": [
    "# set the ground truth\n",
    "ground_truth = sample_info.loc[data.index, sample_class_column]"
   ]
  },
  {
   "cell_type": "code",
   "execution_count": null,
   "metadata": {},
   "outputs": [],
   "source": []
  }
 ],
 "metadata": {
  "kernelspec": {
   "display_name": "Python 3",
   "language": "python",
   "name": "python3"
  },
  "language_info": {
   "codemirror_mode": {
    "name": "ipython",
    "version": 3
   },
   "file_extension": ".py",
   "mimetype": "text/x-python",
   "name": "python",
   "nbconvert_exporter": "python",
   "pygments_lexer": "ipython3",
   "version": "3.6.3"
  }
 },
 "nbformat": 4,
 "nbformat_minor": 2
}
