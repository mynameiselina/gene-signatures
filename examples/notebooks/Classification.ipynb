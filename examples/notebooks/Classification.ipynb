{
 "cells": [
  {
   "cell_type": "markdown",
   "metadata": {},
   "source": [
    "SET PARAMETERS"
   ]
  },
  {
   "cell_type": "code",
   "execution_count": null,
   "metadata": {},
   "outputs": [],
   "source": [
    "# initialize params\n",
    "DEBUG = True\n",
    "saveReport = False\n",
    "toPrint = True\n",
    "reportName = 'notebook'\n",
    "txt_label = \"Classification of integrated c1 and c2 CNVs samples\"\n",
    "sample_class_column = \"Relapsed\"\n",
    "class_labels = [\"relapsed\",\"NOTrelapsed\"]\n",
    "class_values = [1,0]\n",
    "\n",
    "# classification params\n",
    "split_train_size = 20\n",
    "split_random_state = 0\n",
    "\n",
    "# plotting params\n",
    "plot_kwargs = {}\n",
    "function_dict = None\n",
    "with_swarm = False\n",
    "highRes = False\n",
    "if highRes:\n",
    "    img_ext = '.pdf'\n",
    "else:\n",
    "    img_ext = '.png'\n",
    "cmap_custom = None\n",
    "vmin, vmax = (-2, +2)"
   ]
  },
  {
   "cell_type": "code",
   "execution_count": null,
   "metadata": {},
   "outputs": [],
   "source": [
    "# file paths\n",
    "data_fpath = \"output/headneck/integrate_cohorts/c1c2/CNV_mapped_filt/integrated_data.csv\"\n",
    "\n",
    "cnv_feature_fpaths = [\n",
    "    \"output/feature_selection/\",\n",
    "    \"output/feature_selection/\",\n",
    "    \"output/feature_selection/\",\n",
    "]\n",
    "\n",
    "sample_info_fpath = \"input/headneck/integrate_cohorts/integrated_sample_info.csv\"\n",
    "gene_info_fpath = \"input/headneck/integrate_cohorts/gene_info.csv\"\n",
    "output_directory = \"output/headneck/classification\"\n",
    "\n",
    "sample_info_read_csv_kwargs = {\n",
    "    \"sep\": \"\\t\",\n",
    "    \"header\": 0,\n",
    "    \"index_col\": 0,\n",
    "    \"col_as_index\":\"cnvID\"\n",
    "}"
   ]
  },
  {
   "cell_type": "markdown",
   "metadata": {},
   "source": [
    "SET ENVIRONMENT"
   ]
  },
  {
   "cell_type": "code",
   "execution_count": null,
   "metadata": {},
   "outputs": [],
   "source": [
    "# custom imports\n",
    "from omics_processing.io import (\n",
    "    set_directory, load_clinical\n",
    ")\n",
    "from omics_processing.remove_duplicates import (\n",
    "    remove_andSave_duplicates\n",
    ")\n",
    "from gene_signatures.core import (\n",
    "    custom_div_cmap,\n",
    "    get_chr_ticks,\n",
    "    choose_samples,\n",
    "    parse_arg_type,\n",
    "    boxplot,\n",
    "    set_heatmap_size,\n",
    "    set_cbar_ticks,\n",
    "    edit_names_with_duplicates\n",
    ")\n",
    "\n",
    "# basic imports\n",
    "import os, sys\n",
    "import numpy as np\n",
    "import pandas as pd\n",
    "import json\n",
    "from scipy.spatial.distance import pdist, squareform\n",
    "from natsort import natsorted, index_natsorted\n",
    "import math\n",
    "import logging\n",
    "from sklearn import linear_model\n",
    "from sklearn import svm\n",
    "from distutils.util import strtobool\n",
    "from scipy.stats import binom_test\n",
    "from sklearn.externals import joblib\n",
    "from sklearn.model_selection import StratifiedKFold, train_test_split\n",
    "\n",
    "# plotting imports\n",
    "%matplotlib inline\n",
    "import matplotlib\n",
    "import matplotlib.pyplot as plt\n",
    "import seaborn as sns\n",
    "sns.set_style('white')\n",
    "sns.set_context('poster')\n",
    "\n",
    "script_path = os.getcwd()\n",
    "logger = logging.getLogger(__name__)"
   ]
  },
  {
   "cell_type": "markdown",
   "metadata": {},
   "source": [
    "START ANALYSIS"
   ]
  },
  {
   "cell_type": "code",
   "execution_count": null,
   "metadata": {},
   "outputs": [],
   "source": [
    "MainDataDir"
   ]
  },
  {
   "cell_type": "code",
   "execution_count": null,
   "metadata": {},
   "outputs": [],
   "source": [
    "if DEBUG:\n",
    "    logging.basicConfig(stream=sys.stdout, level=logging.DEBUG)"
   ]
  },
  {
   "cell_type": "code",
   "execution_count": null,
   "metadata": {},
   "outputs": [],
   "source": [
    "# properly set file paths\n",
    "try:\n",
    "    os.path.exists(MainDataDir)\n",
    "except:\n",
    "    MainDataDir = os.path.join(script_path, '..','..', 'data')\n",
    "    logger.debug(\"set MainDataDir:\\n\"+MainDataDir)\n",
    "\n",
    "# data input\n",
    "if not os.path.exists(data_fpath):\n",
    "    data_fpath = os.path.join(*data_fpath.rsplit('/'))\n",
    "    data_fpath = os.path.join(MainDataDir, data_fpath)\n",
    "    logger.debug(\"set data_fpath:\\n\"+data_fpath)\n",
    "\n",
    "# sample info input\n",
    "if not os.path.exists(sample_info_fpath):\n",
    "    sample_info_fpath = os.path.join(*sample_info_fpath.rsplit('/'))\n",
    "    sample_info_fpath = os.path.join(MainDataDir, sample_info_fpath)\n",
    "    logger.debug(\"set sample_info_fpath:\\n\"+sample_info_fpath)\n",
    "\n",
    "# gene info input\n",
    "if not os.path.exists(gene_info_fpath):\n",
    "    gene_info_fpath = os.path.join(*gene_info_fpath.rsplit('/'))\n",
    "    gene_info_fpath = os.path.join(MainDataDir, gene_info_fpath)\n",
    "    logger.debug(\"set gene_info_fpath:\\n\"+gene_info_fpath)\n",
    "\n",
    "# data output\n",
    "if not os.path.exists(output_directory):\n",
    "    output_directory = os.path.join(*output_directory.rsplit('/'))\n",
    "    output_directory = set_directory(\n",
    "        os.path.join(MainDataDir, output_directory, reportName)\n",
    "    )\n",
    "    logger.debug(\"set output_directory:\\n\"+output_directory)"
   ]
  },
  {
   "cell_type": "code",
   "execution_count": null,
   "metadata": {},
   "outputs": [],
   "source": [
    "if (cmap_custom is None) and (vmin is not None) and (vmax is not None):\n",
    "    custom_div_cmap_arg = abs(vmin)+abs(vmax)\n",
    "    if (vmin <= 0) and (vmax >= 0):\n",
    "        custom_div_cmap_arg = custom_div_cmap_arg + 1\n",
    "    mincol = plot_kwargs.get('mincol', None)\n",
    "    midcol = plot_kwargs.get('midcol', None)\n",
    "    maxcol = plot_kwargs.get('maxcol', None)\n",
    "    if (\n",
    "            (mincol is not None) and\n",
    "            (midcol is not None) and\n",
    "            (maxcol is not None)\n",
    "            ):\n",
    "        cmap_custom = custom_div_cmap(\n",
    "            numcolors=custom_div_cmap_arg,\n",
    "            mincol=mincol, midcol=midcol, maxcol=maxcol)\n",
    "    else:\n",
    "        cmap_custom = custom_div_cmap(numcolors=custom_div_cmap_arg)"
   ]
  },
  {
   "cell_type": "code",
   "execution_count": null,
   "metadata": {},
   "outputs": [],
   "source": [
    "# load data\n",
    "data = pd.read_csv(data_fpath, sep='\\t', header=0, index_col=0)\n",
    "logger.info('loaded data file with shape: '+str(data.shape))"
   ]
  },
  {
   "cell_type": "code",
   "execution_count": null,
   "metadata": {},
   "outputs": [],
   "source": [
    "# load info table of samples\n",
    "sample_info = load_clinical(\n",
    "    sample_info_fpath, **sample_info_read_csv_kwargs)\n",
    "logger.info('loaded sample_info file with shape: '+str(sample_info.shape))"
   ]
  },
  {
   "cell_type": "code",
   "execution_count": null,
   "metadata": {},
   "outputs": [],
   "source": [
    "# load info table of genes\n",
    "gene_info = pd.read_csv(gene_info_fpath, sep='\\t', header=0, index_col=0)\n",
    "logger.info('loaded gene_info file with shape: '+str(gene_info.shape))"
   ]
  },
  {
   "cell_type": "code",
   "execution_count": null,
   "metadata": {},
   "outputs": [],
   "source": [
    "# set the ground truth\n",
    "ground_truth = sample_info.loc[data.index, sample_class_column]"
   ]
  },
  {
   "cell_type": "code",
   "execution_count": null,
   "metadata": {},
   "outputs": [],
   "source": []
  }
 ],
 "metadata": {
  "kernelspec": {
   "display_name": "Python 3",
   "language": "python",
   "name": "python3"
  },
  "language_info": {
   "codemirror_mode": {
    "name": "ipython",
    "version": 3
   },
   "file_extension": ".py",
   "mimetype": "text/x-python",
   "name": "python",
   "nbconvert_exporter": "python",
   "pygments_lexer": "ipython3",
   "version": "3.6.3"
  }
 },
 "nbformat": 4,
 "nbformat_minor": 2
}
