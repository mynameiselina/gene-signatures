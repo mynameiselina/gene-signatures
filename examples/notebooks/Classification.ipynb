{
 "cells": [
  {
   "cell_type": "markdown",
   "metadata": {},
   "source": [
    "SET PARAMETERS"
   ]
  },
  {
   "cell_type": "code",
   "execution_count": 1,
   "metadata": {},
   "outputs": [],
   "source": [
    "# initialize params\n",
    "DEBUG = True\n",
    "saveReport = False\n",
    "toPrint = True\n",
    "reportName = 'notebook'\n",
    "txt_label = \"Classification of integrated c1 and c2 CNVs samples\"\n",
    "sample_class_column = \"Relapsed\"\n",
    "class_labels = [\"relapsed\",\"NOTrelapsed\"]\n",
    "class_values = [1,0]\n",
    "\n",
    "# classification params\n",
    "split_train_size = 20\n",
    "split_random_state = 0\n",
    "\n",
    "# plotting params\n",
    "plot_kwargs = {}\n",
    "function_dict = None\n",
    "with_swarm = False\n",
    "highRes = False\n",
    "if highRes:\n",
    "    img_ext = '.pdf'\n",
    "else:\n",
    "    img_ext = '.png'\n",
    "cmap_custom = None\n",
    "vmin, vmax = (-2, +2)"
   ]
  },
  {
   "cell_type": "code",
   "execution_count": 2,
   "metadata": {},
   "outputs": [],
   "source": [
    "# file paths\n",
    "data_fpath = \"output/headneck/integrate_cohorts/c1c2/CNV_mapped_filt/integrated_data.csv\"\n",
    "sample_info_fpath = \"output/headneck/integrate_cohorts/c1c2/integrated_sample_info.csv\"\n",
    "gene_info_fpath = \"output/headneck/integrate_cohorts/c1c2/genes_info.csv\"\n",
    "output_directory = \"output/headneck/classification/\"+reportName"
   ]
  },
  {
   "cell_type": "code",
   "execution_count": 3,
   "metadata": {},
   "outputs": [],
   "source": [
    "# arguments to load the sample_info file\n",
    "sample_info_read_csv_kwargs = {\n",
    "    \"sep\": \"\\t\",\n",
    "    \"header\": 0,\n",
    "    \"col_as_index\":\"patientID\"\n",
    "}"
   ]
  },
  {
   "cell_type": "code",
   "execution_count": 4,
   "metadata": {},
   "outputs": [],
   "source": [
    "# select features\n",
    "genepanel_path = \"output/headneck/setup_c1_genepanel/process_select_primary/data_processed.csv\"\n",
    "_dirs = ['c1_prmr_OncFltNxEx', 'c2_ExcvFltNxEx', 'c1_prmr_mapped_c2_CnvNxEx', 'c1_prmr_mapped_c2_Cnv', 'c1_prmr_mapped_c2_CnvMixedNxEx']\n",
    "_key_names = ['c1_OncFltNxEx', 'c2_ExcvFltNxEx', 'c3_CnvNxEx', 'c3_Cnv', 'c3_CnvMixedNxEx']"
   ]
  },
  {
   "cell_type": "markdown",
   "metadata": {},
   "source": [
    "SET ENVIRONMENT"
   ]
  },
  {
   "cell_type": "code",
   "execution_count": 5,
   "metadata": {},
   "outputs": [],
   "source": [
    "# custom imports\n",
    "from omics_processing.io import (\n",
    "    set_directory, load_clinical\n",
    ")\n",
    "from omics_processing.remove_duplicates import (\n",
    "    remove_andSave_duplicates\n",
    ")\n",
    "from gene_signatures.core import (\n",
    "    custom_div_cmap,\n",
    "    get_chr_ticks,\n",
    "    choose_samples,\n",
    "    parse_arg_type,\n",
    "    boxplot,\n",
    "    set_heatmap_size,\n",
    "    set_cbar_ticks,\n",
    "    edit_names_with_duplicates\n",
    ")\n",
    "\n",
    "# basic imports\n",
    "import os, sys\n",
    "import numpy as np\n",
    "import pandas as pd\n",
    "import json\n",
    "from scipy.spatial.distance import pdist, squareform\n",
    "from natsort import natsorted, index_natsorted\n",
    "import math\n",
    "import logging\n",
    "from sklearn import linear_model\n",
    "from sklearn import svm\n",
    "from distutils.util import strtobool\n",
    "from scipy.stats import binom_test\n",
    "from sklearn.externals import joblib\n",
    "from sklearn.model_selection import StratifiedKFold, train_test_split\n",
    "\n",
    "# plotting imports\n",
    "%matplotlib inline\n",
    "import matplotlib\n",
    "import matplotlib.pyplot as plt\n",
    "import seaborn as sns\n",
    "sns.set_style('white')\n",
    "sns.set_context('poster')\n",
    "\n",
    "script_path = os.getcwd()\n",
    "logger = logging.getLogger(__name__)"
   ]
  },
  {
   "cell_type": "markdown",
   "metadata": {},
   "source": [
    "START ANALYSIS"
   ]
  },
  {
   "cell_type": "code",
   "execution_count": 6,
   "metadata": {},
   "outputs": [],
   "source": [
    "if DEBUG:\n",
    "    logging.basicConfig(stream=sys.stdout, level=logging.DEBUG)"
   ]
  },
  {
   "cell_type": "code",
   "execution_count": 7,
   "metadata": {},
   "outputs": [],
   "source": [
    "def check_path_integrity(f,rootDir=None, name=\"\", force=False):\n",
    "    if not os.path.exists(f):\n",
    "        f = os.path.join(*f.rsplit('/'))\n",
    "        f = os.path.join(rootDir, f)\n",
    "        if force:\n",
    "            f = set_directory(f)\n",
    "        logger.debug(\"set \"+name+\" fpath:\\n\"+f)\n",
    "    return f"
   ]
  },
  {
   "cell_type": "code",
   "execution_count": 16,
   "metadata": {},
   "outputs": [],
   "source": [
    "# properly set file paths\n",
    "try:\n",
    "    os.path.exists(MainDataDir)\n",
    "except:\n",
    "    MainDataDir = os.path.join(script_path, '..','..', 'data')\n",
    "    logger.debug(\"set MainDataDir:\\n\"+MainDataDir)\n",
    "\n",
    "# data input\n",
    "data_fpath = check_path_integrity(data_fpath, rootDir=MainDataDir, name=\"data\")\n",
    "\n",
    "# sample info input\n",
    "sample_info_fpath = check_path_integrity(sample_info_fpath, rootDir=MainDataDir, name=\"sample_info\")\n",
    "\n",
    "# gene info input\n",
    "gene_info_fpath = check_path_integrity(gene_info_fpath, rootDir=MainDataDir, name=\"gene_info\")\n",
    "\n",
    "# data output\n",
    "output_directory = check_path_integrity(output_directory, rootDir=MainDataDir, name=\"output\", force=True)"
   ]
  },
  {
   "cell_type": "code",
   "execution_count": 12,
   "metadata": {},
   "outputs": [
    {
     "name": "stdout",
     "output_type": "stream",
     "text": [
      "DEBUG:__main__:set genepanel features fpath:\n",
      "/Users/lle/GitRepos/myRepos/gene_signatures/examples/notebooks/../../data/output/headneck/setup_c1_genepanel/process_select_primary/data_processed.csv\n",
      "DEBUG:__main__:set c1_OncFltNxEx features fpath:\n",
      "/Users/lle/GitRepos/myRepos/gene_signatures/examples/notebooks/../../data/output/headneck/feature_selection/c1_prmr_OncFltNxEx/featsel_results.csv\n",
      "DEBUG:__main__:set c2_ExcvFltNxEx features fpath:\n",
      "/Users/lle/GitRepos/myRepos/gene_signatures/examples/notebooks/../../data/output/headneck/feature_selection/c2_ExcvFltNxEx/featsel_results.csv\n",
      "DEBUG:__main__:set c3_CnvNxEx features fpath:\n",
      "/Users/lle/GitRepos/myRepos/gene_signatures/examples/notebooks/../../data/output/headneck/feature_selection/c1_prmr_mapped_c2_CnvNxEx/featsel_results.csv\n",
      "DEBUG:__main__:set c3_Cnv features fpath:\n",
      "/Users/lle/GitRepos/myRepos/gene_signatures/examples/notebooks/../../data/output/headneck/feature_selection/c1_prmr_mapped_c2_Cnv/featsel_results.csv\n",
      "DEBUG:__main__:set c3_CnvMixedNxEx features fpath:\n",
      "/Users/lle/GitRepos/myRepos/gene_signatures/examples/notebooks/../../data/output/headneck/feature_selection/c1_prmr_mapped_c2_CnvMixedNxEx/featsel_results.csv\n"
     ]
    }
   ],
   "source": [
    "# fpaths_dict\n",
    "fpaths_dict = {}\n",
    "fpaths_dict['genepanel'] = check_path_integrity(genepanel_path, rootDir=MainDataDir, name=\"genepanel features\")\n",
    "\n",
    "for _f, _k in zip(_dirs, _key_names):\n",
    "    fpath = \"output/headneck/feature_selection/\"+_f+\"/featsel_results.csv\"\n",
    "    fpaths_dict[_k] = check_path_integrity(fpath, rootDir=MainDataDir, name=_k+\" features\")\n",
    "    "
   ]
  },
  {
   "cell_type": "code",
   "execution_count": 15,
   "metadata": {},
   "outputs": [
    {
     "data": {
      "text/plain": [
       "dict_keys(['genepanel', 'c1_OncFltNxEx', 'c2_ExcvFltNxEx', 'c3_CnvNxEx', 'c3_Cnv', 'c3_CnvMixedNxEx'])"
      ]
     },
     "execution_count": 15,
     "metadata": {},
     "output_type": "execute_result"
    }
   ],
   "source": [
    "fpaths_dict.keys()"
   ]
  },
  {
   "cell_type": "code",
   "execution_count": 17,
   "metadata": {},
   "outputs": [],
   "source": [
    "if (cmap_custom is None) and (vmin is not None) and (vmax is not None):\n",
    "    custom_div_cmap_arg = abs(vmin)+abs(vmax)\n",
    "    if (vmin <= 0) and (vmax >= 0):\n",
    "        custom_div_cmap_arg = custom_div_cmap_arg + 1\n",
    "    mincol = plot_kwargs.get('mincol', None)\n",
    "    midcol = plot_kwargs.get('midcol', None)\n",
    "    maxcol = plot_kwargs.get('maxcol', None)\n",
    "    if (\n",
    "            (mincol is not None) and\n",
    "            (midcol is not None) and\n",
    "            (maxcol is not None)\n",
    "            ):\n",
    "        cmap_custom = custom_div_cmap(\n",
    "            numcolors=custom_div_cmap_arg,\n",
    "            mincol=mincol, midcol=midcol, maxcol=maxcol)\n",
    "    else:\n",
    "        cmap_custom = custom_div_cmap(numcolors=custom_div_cmap_arg)"
   ]
  },
  {
   "cell_type": "code",
   "execution_count": 18,
   "metadata": {},
   "outputs": [
    {
     "name": "stdout",
     "output_type": "stream",
     "text": [
      "INFO:__main__:loaded data file with shape: (61, 18417)\n"
     ]
    }
   ],
   "source": [
    "# load data\n",
    "data = pd.read_csv(data_fpath, sep='\\t', header=0, index_col=0)\n",
    "logger.info('loaded data file with shape: '+str(data.shape))"
   ]
  },
  {
   "cell_type": "code",
   "execution_count": 19,
   "metadata": {},
   "outputs": [
    {
     "data": {
      "text/html": [
       "<div>\n",
       "<style scoped>\n",
       "    .dataframe tbody tr th:only-of-type {\n",
       "        vertical-align: middle;\n",
       "    }\n",
       "\n",
       "    .dataframe tbody tr th {\n",
       "        vertical-align: top;\n",
       "    }\n",
       "\n",
       "    .dataframe thead th {\n",
       "        text-align: right;\n",
       "    }\n",
       "</style>\n",
       "<table border=\"1\" class=\"dataframe\">\n",
       "  <thead>\n",
       "    <tr style=\"text-align: right;\">\n",
       "      <th></th>\n",
       "      <th>AADACL3</th>\n",
       "      <th>AADACL4</th>\n",
       "      <th>ACOT7</th>\n",
       "      <th>AGTRAP</th>\n",
       "      <th>AJAP1</th>\n",
       "      <th>ANGPTL7</th>\n",
       "      <th>APITD1-CORT</th>\n",
       "      <th>C1orf127</th>\n",
       "      <th>C1orf158</th>\n",
       "      <th>C1orf167</th>\n",
       "      <th>...</th>\n",
       "      <th>TTTY8</th>\n",
       "      <th>TTTY9B</th>\n",
       "      <th>USP9Y</th>\n",
       "      <th>UTY</th>\n",
       "      <th>VCY</th>\n",
       "      <th>XKRY</th>\n",
       "      <th>ZFY</th>\n",
       "      <th>BCORP1</th>\n",
       "      <th>CD24</th>\n",
       "      <th>KDM5D</th>\n",
       "    </tr>\n",
       "  </thead>\n",
       "  <tbody>\n",
       "    <tr>\n",
       "      <th>1Rpr</th>\n",
       "      <td>0.0</td>\n",
       "      <td>0.0</td>\n",
       "      <td>0.0</td>\n",
       "      <td>0.0</td>\n",
       "      <td>0.0</td>\n",
       "      <td>0.0</td>\n",
       "      <td>0.0</td>\n",
       "      <td>0.0</td>\n",
       "      <td>0.0</td>\n",
       "      <td>0.0</td>\n",
       "      <td>...</td>\n",
       "      <td>0.0</td>\n",
       "      <td>0.0</td>\n",
       "      <td>0.0</td>\n",
       "      <td>0.0</td>\n",
       "      <td>0.0</td>\n",
       "      <td>0.0</td>\n",
       "      <td>0.0</td>\n",
       "      <td>0.0</td>\n",
       "      <td>0.0</td>\n",
       "      <td>0.0</td>\n",
       "    </tr>\n",
       "    <tr>\n",
       "      <th>2Rpr</th>\n",
       "      <td>-1.0</td>\n",
       "      <td>-1.0</td>\n",
       "      <td>-1.0</td>\n",
       "      <td>-1.0</td>\n",
       "      <td>-1.0</td>\n",
       "      <td>-1.0</td>\n",
       "      <td>-1.0</td>\n",
       "      <td>-1.0</td>\n",
       "      <td>-1.0</td>\n",
       "      <td>-1.0</td>\n",
       "      <td>...</td>\n",
       "      <td>0.0</td>\n",
       "      <td>0.0</td>\n",
       "      <td>0.0</td>\n",
       "      <td>0.0</td>\n",
       "      <td>0.0</td>\n",
       "      <td>0.0</td>\n",
       "      <td>0.0</td>\n",
       "      <td>0.0</td>\n",
       "      <td>0.0</td>\n",
       "      <td>0.0</td>\n",
       "    </tr>\n",
       "    <tr>\n",
       "      <th>3Rpr</th>\n",
       "      <td>0.0</td>\n",
       "      <td>0.0</td>\n",
       "      <td>0.0</td>\n",
       "      <td>0.0</td>\n",
       "      <td>0.0</td>\n",
       "      <td>0.0</td>\n",
       "      <td>0.0</td>\n",
       "      <td>0.0</td>\n",
       "      <td>0.0</td>\n",
       "      <td>0.0</td>\n",
       "      <td>...</td>\n",
       "      <td>0.0</td>\n",
       "      <td>-2.0</td>\n",
       "      <td>0.0</td>\n",
       "      <td>0.0</td>\n",
       "      <td>0.0</td>\n",
       "      <td>-2.0</td>\n",
       "      <td>0.0</td>\n",
       "      <td>-2.0</td>\n",
       "      <td>-2.0</td>\n",
       "      <td>-2.0</td>\n",
       "    </tr>\n",
       "    <tr>\n",
       "      <th>4Rpr</th>\n",
       "      <td>0.0</td>\n",
       "      <td>0.0</td>\n",
       "      <td>0.0</td>\n",
       "      <td>0.0</td>\n",
       "      <td>0.0</td>\n",
       "      <td>0.0</td>\n",
       "      <td>0.0</td>\n",
       "      <td>0.0</td>\n",
       "      <td>0.0</td>\n",
       "      <td>0.0</td>\n",
       "      <td>...</td>\n",
       "      <td>0.0</td>\n",
       "      <td>0.0</td>\n",
       "      <td>0.0</td>\n",
       "      <td>0.0</td>\n",
       "      <td>0.0</td>\n",
       "      <td>0.0</td>\n",
       "      <td>0.0</td>\n",
       "      <td>0.0</td>\n",
       "      <td>0.0</td>\n",
       "      <td>0.0</td>\n",
       "    </tr>\n",
       "    <tr>\n",
       "      <th>5Rpr</th>\n",
       "      <td>0.0</td>\n",
       "      <td>0.0</td>\n",
       "      <td>0.0</td>\n",
       "      <td>0.0</td>\n",
       "      <td>0.0</td>\n",
       "      <td>0.0</td>\n",
       "      <td>0.0</td>\n",
       "      <td>0.0</td>\n",
       "      <td>0.0</td>\n",
       "      <td>0.0</td>\n",
       "      <td>...</td>\n",
       "      <td>-2.0</td>\n",
       "      <td>-2.0</td>\n",
       "      <td>-2.0</td>\n",
       "      <td>-2.0</td>\n",
       "      <td>-2.0</td>\n",
       "      <td>-2.0</td>\n",
       "      <td>-2.0</td>\n",
       "      <td>-2.0</td>\n",
       "      <td>-2.0</td>\n",
       "      <td>-2.0</td>\n",
       "    </tr>\n",
       "  </tbody>\n",
       "</table>\n",
       "<p>5 rows × 18417 columns</p>\n",
       "</div>"
      ],
      "text/plain": [
       "      AADACL3  AADACL4  ACOT7  AGTRAP  AJAP1  ANGPTL7  APITD1-CORT  C1orf127  \\\n",
       "1Rpr      0.0      0.0    0.0     0.0    0.0      0.0          0.0       0.0   \n",
       "2Rpr     -1.0     -1.0   -1.0    -1.0   -1.0     -1.0         -1.0      -1.0   \n",
       "3Rpr      0.0      0.0    0.0     0.0    0.0      0.0          0.0       0.0   \n",
       "4Rpr      0.0      0.0    0.0     0.0    0.0      0.0          0.0       0.0   \n",
       "5Rpr      0.0      0.0    0.0     0.0    0.0      0.0          0.0       0.0   \n",
       "\n",
       "      C1orf158  C1orf167  ...    TTTY8  TTTY9B  USP9Y  UTY  VCY  XKRY  ZFY  \\\n",
       "1Rpr       0.0       0.0  ...      0.0     0.0    0.0  0.0  0.0   0.0  0.0   \n",
       "2Rpr      -1.0      -1.0  ...      0.0     0.0    0.0  0.0  0.0   0.0  0.0   \n",
       "3Rpr       0.0       0.0  ...      0.0    -2.0    0.0  0.0  0.0  -2.0  0.0   \n",
       "4Rpr       0.0       0.0  ...      0.0     0.0    0.0  0.0  0.0   0.0  0.0   \n",
       "5Rpr       0.0       0.0  ...     -2.0    -2.0   -2.0 -2.0 -2.0  -2.0 -2.0   \n",
       "\n",
       "      BCORP1  CD24  KDM5D  \n",
       "1Rpr     0.0   0.0    0.0  \n",
       "2Rpr     0.0   0.0    0.0  \n",
       "3Rpr    -2.0  -2.0   -2.0  \n",
       "4Rpr     0.0   0.0    0.0  \n",
       "5Rpr    -2.0  -2.0   -2.0  \n",
       "\n",
       "[5 rows x 18417 columns]"
      ]
     },
     "execution_count": 19,
     "metadata": {},
     "output_type": "execute_result"
    }
   ],
   "source": [
    "data.head()"
   ]
  },
  {
   "cell_type": "code",
   "execution_count": 20,
   "metadata": {},
   "outputs": [
    {
     "name": "stdout",
     "output_type": "stream",
     "text": [
      "INFO:omics_processing.io:Load clinical file: /Users/lle/GitRepos/myRepos/gene_signatures/examples/notebooks/../../data/output/headneck/integrate_cohorts/c1c2/integrated_sample_info.csv\n",
      "INFO:__main__:loaded sample_info file with shape: (75, 11)\n"
     ]
    }
   ],
   "source": [
    "# load info table of samples\n",
    "sample_info = load_clinical(\n",
    "    sample_info_fpath, **sample_info_read_csv_kwargs)\n",
    "logger.info('loaded sample_info file with shape: '+str(sample_info.shape))"
   ]
  },
  {
   "cell_type": "code",
   "execution_count": 21,
   "metadata": {},
   "outputs": [
    {
     "data": {
      "text/html": [
       "<div>\n",
       "<style scoped>\n",
       "    .dataframe tbody tr th:only-of-type {\n",
       "        vertical-align: middle;\n",
       "    }\n",
       "\n",
       "    .dataframe tbody tr th {\n",
       "        vertical-align: top;\n",
       "    }\n",
       "\n",
       "    .dataframe thead th {\n",
       "        text-align: right;\n",
       "    }\n",
       "</style>\n",
       "<table border=\"1\" class=\"dataframe\">\n",
       "  <thead>\n",
       "    <tr style=\"text-align: right;\">\n",
       "      <th></th>\n",
       "      <th>Unnamed: 0</th>\n",
       "      <th>varID</th>\n",
       "      <th>cnvID</th>\n",
       "      <th>patient</th>\n",
       "      <th>tumor</th>\n",
       "      <th>class_description</th>\n",
       "      <th>Tcode</th>\n",
       "      <th>Ccode</th>\n",
       "      <th>dataset</th>\n",
       "      <th>Local_Control</th>\n",
       "      <th>Relapsed</th>\n",
       "    </tr>\n",
       "    <tr>\n",
       "      <th>patientID</th>\n",
       "      <th></th>\n",
       "      <th></th>\n",
       "      <th></th>\n",
       "      <th></th>\n",
       "      <th></th>\n",
       "      <th></th>\n",
       "      <th></th>\n",
       "      <th></th>\n",
       "      <th></th>\n",
       "      <th></th>\n",
       "      <th></th>\n",
       "    </tr>\n",
       "  </thead>\n",
       "  <tbody>\n",
       "    <tr>\n",
       "      <th>1Rpr</th>\n",
       "      <td>0</td>\n",
       "      <td>Rad2_MR</td>\n",
       "      <td>DS-107_0002</td>\n",
       "      <td>1.0</td>\n",
       "      <td>primary</td>\n",
       "      <td>Responder</td>\n",
       "      <td>0.0</td>\n",
       "      <td>0.0</td>\n",
       "      <td>0</td>\n",
       "      <td>NaN</td>\n",
       "      <td>0.0</td>\n",
       "    </tr>\n",
       "    <tr>\n",
       "      <th>2Rpr</th>\n",
       "      <td>1</td>\n",
       "      <td>Rad3_MR</td>\n",
       "      <td>DS-107_0003</td>\n",
       "      <td>2.0</td>\n",
       "      <td>primary</td>\n",
       "      <td>Responder</td>\n",
       "      <td>0.0</td>\n",
       "      <td>0.0</td>\n",
       "      <td>0</td>\n",
       "      <td>NaN</td>\n",
       "      <td>0.0</td>\n",
       "    </tr>\n",
       "    <tr>\n",
       "      <th>3Rpr</th>\n",
       "      <td>2</td>\n",
       "      <td>Rad4_MR</td>\n",
       "      <td>DS-107_0004</td>\n",
       "      <td>3.0</td>\n",
       "      <td>primary</td>\n",
       "      <td>Responder</td>\n",
       "      <td>0.0</td>\n",
       "      <td>0.0</td>\n",
       "      <td>0</td>\n",
       "      <td>NaN</td>\n",
       "      <td>0.0</td>\n",
       "    </tr>\n",
       "    <tr>\n",
       "      <th>4Rpr</th>\n",
       "      <td>3</td>\n",
       "      <td>Rad5_MR</td>\n",
       "      <td>DS-107_0005</td>\n",
       "      <td>4.0</td>\n",
       "      <td>primary</td>\n",
       "      <td>Responder</td>\n",
       "      <td>0.0</td>\n",
       "      <td>0.0</td>\n",
       "      <td>0</td>\n",
       "      <td>NaN</td>\n",
       "      <td>0.0</td>\n",
       "    </tr>\n",
       "    <tr>\n",
       "      <th>5Rpr</th>\n",
       "      <td>4</td>\n",
       "      <td>Rad6_MR</td>\n",
       "      <td>DS-107_0006</td>\n",
       "      <td>5.0</td>\n",
       "      <td>primary</td>\n",
       "      <td>Responder</td>\n",
       "      <td>0.0</td>\n",
       "      <td>0.0</td>\n",
       "      <td>0</td>\n",
       "      <td>NaN</td>\n",
       "      <td>0.0</td>\n",
       "    </tr>\n",
       "  </tbody>\n",
       "</table>\n",
       "</div>"
      ],
      "text/plain": [
       "           Unnamed: 0    varID        cnvID  patient    tumor  \\\n",
       "patientID                                                       \n",
       "1Rpr                0  Rad2_MR  DS-107_0002      1.0  primary   \n",
       "2Rpr                1  Rad3_MR  DS-107_0003      2.0  primary   \n",
       "3Rpr                2  Rad4_MR  DS-107_0004      3.0  primary   \n",
       "4Rpr                3  Rad5_MR  DS-107_0005      4.0  primary   \n",
       "5Rpr                4  Rad6_MR  DS-107_0006      5.0  primary   \n",
       "\n",
       "          class_description  Tcode  Ccode  dataset  Local_Control  Relapsed  \n",
       "patientID                                                                    \n",
       "1Rpr              Responder    0.0    0.0        0            NaN       0.0  \n",
       "2Rpr              Responder    0.0    0.0        0            NaN       0.0  \n",
       "3Rpr              Responder    0.0    0.0        0            NaN       0.0  \n",
       "4Rpr              Responder    0.0    0.0        0            NaN       0.0  \n",
       "5Rpr              Responder    0.0    0.0        0            NaN       0.0  "
      ]
     },
     "execution_count": 21,
     "metadata": {},
     "output_type": "execute_result"
    }
   ],
   "source": [
    "sample_info.head()"
   ]
  },
  {
   "cell_type": "code",
   "execution_count": 22,
   "metadata": {},
   "outputs": [
    {
     "name": "stdout",
     "output_type": "stream",
     "text": [
      "INFO:__main__:loaded gene_info file with shape: (25730, 8)\n"
     ]
    }
   ],
   "source": [
    "# load info table of genes\n",
    "gene_info = pd.read_csv(gene_info_fpath, sep='\\t', header=0, index_col=0)\n",
    "logger.info('loaded gene_info file with shape: '+str(gene_info.shape))"
   ]
  },
  {
   "cell_type": "code",
   "execution_count": 23,
   "metadata": {},
   "outputs": [],
   "source": [
    "# set the ground truth\n",
    "ground_truth = sample_info.loc[data.index, sample_class_column]"
   ]
  },
  {
   "cell_type": "code",
   "execution_count": 24,
   "metadata": {},
   "outputs": [
    {
     "data": {
      "text/plain": [
       "1Rpr    0.0\n",
       "2Rpr    0.0\n",
       "3Rpr    0.0\n",
       "4Rpr    0.0\n",
       "5Rpr    0.0\n",
       "Name: Relapsed, dtype: float64"
      ]
     },
     "execution_count": 24,
     "metadata": {},
     "output_type": "execute_result"
    }
   ],
   "source": [
    "ground_truth.head()"
   ]
  },
  {
   "cell_type": "code",
   "execution_count": 64,
   "metadata": {},
   "outputs": [],
   "source": [
    "def extract_gene_set(df):\n",
    "    gene_set = set()\n",
    "    if 'dupl_genes' in df.columns:\n",
    "        dupl_col = df['dupl_genes']\n",
    "        dupl_set = set([\n",
    "            item for sublist in dupl_col \n",
    "            if isinstance(sublist, str) \n",
    "            for item in eval(sublist)\n",
    "        ])\n",
    "        gene_set = gene_set.union(set(dupl_set))\n",
    "\n",
    "        if 'cleanName' in df.columns:\n",
    "            gene_set = gene_set.union(set(df['cleanName'].values))\n",
    "    else:\n",
    "        gene_set = gene_set.union(set(df.index.values))\n",
    "        \n",
    "    return gene_set\n"
   ]
  },
  {
   "cell_type": "code",
   "execution_count": 66,
   "metadata": {},
   "outputs": [
    {
     "name": "stdout",
     "output_type": "stream",
     "text": [
      "INFO:__main__:16 unique out of 16 total features from genepanel\n",
      "INFO:__main__:4 unique out of 40 total features from c1_OncFltNxEx\n",
      "INFO:__main__:30 unique out of 150 total features from c2_ExcvFltNxEx\n",
      "INFO:__main__:137 unique out of 693 total features from c3_CnvNxEx\n",
      "INFO:__main__:6238 unique out of 15666 total features from c3_Cnv\n",
      "INFO:__main__:3 unique out of 6 total features from c3_CnvMixedNxEx\n"
     ]
    }
   ],
   "source": [
    "features_dict = {}\n",
    "features_sets = {}\n",
    "for key in fpaths_dict:\n",
    "    \n",
    "    df = pd.read_csv(fpaths_dict[key], sep='\\t', header=0, index_col=0)\n",
    "    \n",
    "    if 'genepanel' in key:\n",
    "        features_sets[key] = set(df.columns.values)\n",
    "        n_total = len(features_sets[key])\n",
    "        n_unique = n_total\n",
    "    else:\n",
    "        features_dict[key] = df\n",
    "        features_sets[key] = extract_gene_set(df)\n",
    "        n_total = len(features_sets[key])\n",
    "        n_unique = df.shape[0]\n",
    "        \n",
    "    logger.info(str(n_unique)+' unique out of '+str(n_total)+' total features from '+key)"
   ]
  },
  {
   "cell_type": "code",
   "execution_count": null,
   "metadata": {},
   "outputs": [],
   "source": []
  }
 ],
 "metadata": {
  "kernelspec": {
   "display_name": "Python 3",
   "language": "python",
   "name": "python3"
  },
  "language_info": {
   "codemirror_mode": {
    "name": "ipython",
    "version": 3
   },
   "file_extension": ".py",
   "mimetype": "text/x-python",
   "name": "python",
   "nbconvert_exporter": "python",
   "pygments_lexer": "ipython3",
   "version": "3.6.3"
  }
 },
 "nbformat": 4,
 "nbformat_minor": 2
}
